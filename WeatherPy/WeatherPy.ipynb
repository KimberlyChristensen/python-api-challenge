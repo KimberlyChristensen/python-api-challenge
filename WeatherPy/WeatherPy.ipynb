{
 "cells": [
  {
   "cell_type": "markdown",
   "metadata": {},
   "source": [
    "# WeatherPy\n",
    "----\n",
    "\n",
    "#### Note\n",
    "* Instructions have been included for each segment. You do not have to follow them exactly, but they are included to help you think through the steps."
   ]
  },
  {
   "cell_type": "code",
   "execution_count": 56,
   "metadata": {
    "scrolled": true
   },
   "outputs": [],
   "source": [
    "# Dependencies and Setup\n",
    "import matplotlib.pyplot as plt\n",
    "import pandas as pd\n",
    "import numpy as np\n",
    "import requests\n",
    "import time\n",
    "import csv\n",
    "from scipy.stats import linregress\n",
    "import scipy.stats as st\n",
    "\n",
    "# Import API key\n",
    "from api_keys import weather_api_key\n",
    "\n",
    "# Incorporated citipy to determine city based on latitude and longitude\n",
    "from citipy import citipy\n",
    "\n",
    "# Output File (CSV)\n",
    "output_data_file = pd.read_csv(\"../output_data/cities.csv\")\n",
    "\n",
    "# Range of latitudes and longitudes\n",
    "lat_range = (-90, 90)\n",
    "lng_range = (-180, 180)"
   ]
  },
  {
   "cell_type": "code",
   "execution_count": 2,
   "metadata": {},
   "outputs": [
    {
     "data": {
      "text/html": [
       "<div>\n",
       "<style scoped>\n",
       "    .dataframe tbody tr th:only-of-type {\n",
       "        vertical-align: middle;\n",
       "    }\n",
       "\n",
       "    .dataframe tbody tr th {\n",
       "        vertical-align: top;\n",
       "    }\n",
       "\n",
       "    .dataframe thead th {\n",
       "        text-align: right;\n",
       "    }\n",
       "</style>\n",
       "<table border=\"1\" class=\"dataframe\">\n",
       "  <thead>\n",
       "    <tr style=\"text-align: right;\">\n",
       "      <th></th>\n",
       "      <th>City_ID</th>\n",
       "      <th>City</th>\n",
       "      <th>Cloudiness</th>\n",
       "      <th>Country</th>\n",
       "      <th>Date</th>\n",
       "      <th>Humidity</th>\n",
       "      <th>Lat</th>\n",
       "      <th>Lng</th>\n",
       "      <th>Max Temp</th>\n",
       "      <th>Wind Speed</th>\n",
       "    </tr>\n",
       "  </thead>\n",
       "  <tbody>\n",
       "    <tr>\n",
       "      <th>0</th>\n",
       "      <td>0</td>\n",
       "      <td>ostrovnoy</td>\n",
       "      <td>2</td>\n",
       "      <td>RU</td>\n",
       "      <td>1558378754</td>\n",
       "      <td>72</td>\n",
       "      <td>68.05</td>\n",
       "      <td>39.51</td>\n",
       "      <td>37.50</td>\n",
       "      <td>7.16</td>\n",
       "    </tr>\n",
       "    <tr>\n",
       "      <th>1</th>\n",
       "      <td>1</td>\n",
       "      <td>mahebourg</td>\n",
       "      <td>75</td>\n",
       "      <td>MU</td>\n",
       "      <td>1558378503</td>\n",
       "      <td>74</td>\n",
       "      <td>-20.41</td>\n",
       "      <td>57.70</td>\n",
       "      <td>78.80</td>\n",
       "      <td>11.41</td>\n",
       "    </tr>\n",
       "    <tr>\n",
       "      <th>2</th>\n",
       "      <td>2</td>\n",
       "      <td>qaanaaq</td>\n",
       "      <td>25</td>\n",
       "      <td>GL</td>\n",
       "      <td>1558378755</td>\n",
       "      <td>73</td>\n",
       "      <td>77.48</td>\n",
       "      <td>-69.36</td>\n",
       "      <td>22.20</td>\n",
       "      <td>2.37</td>\n",
       "    </tr>\n",
       "    <tr>\n",
       "      <th>3</th>\n",
       "      <td>3</td>\n",
       "      <td>zhuhai</td>\n",
       "      <td>0</td>\n",
       "      <td>CN</td>\n",
       "      <td>1558378755</td>\n",
       "      <td>39</td>\n",
       "      <td>40.71</td>\n",
       "      <td>112.04</td>\n",
       "      <td>44.60</td>\n",
       "      <td>4.47</td>\n",
       "    </tr>\n",
       "    <tr>\n",
       "      <th>4</th>\n",
       "      <td>4</td>\n",
       "      <td>cape town</td>\n",
       "      <td>20</td>\n",
       "      <td>ZA</td>\n",
       "      <td>1558378755</td>\n",
       "      <td>76</td>\n",
       "      <td>-33.93</td>\n",
       "      <td>18.42</td>\n",
       "      <td>55.99</td>\n",
       "      <td>8.05</td>\n",
       "    </tr>\n",
       "  </tbody>\n",
       "</table>\n",
       "</div>"
      ],
      "text/plain": [
       "   City_ID       City  Cloudiness Country        Date  Humidity    Lat  \\\n",
       "0        0  ostrovnoy           2      RU  1558378754        72  68.05   \n",
       "1        1  mahebourg          75      MU  1558378503        74 -20.41   \n",
       "2        2    qaanaaq          25      GL  1558378755        73  77.48   \n",
       "3        3     zhuhai           0      CN  1558378755        39  40.71   \n",
       "4        4  cape town          20      ZA  1558378755        76 -33.93   \n",
       "\n",
       "      Lng  Max Temp  Wind Speed  \n",
       "0   39.51     37.50        7.16  \n",
       "1   57.70     78.80       11.41  \n",
       "2  -69.36     22.20        2.37  \n",
       "3  112.04     44.60        4.47  \n",
       "4   18.42     55.99        8.05  "
      ]
     },
     "execution_count": 2,
     "metadata": {},
     "output_type": "execute_result"
    }
   ],
   "source": [
    "output_data_file.head()"
   ]
  },
  {
   "cell_type": "markdown",
   "metadata": {},
   "source": [
    "## Generate Cities List"
   ]
  },
  {
   "cell_type": "code",
   "execution_count": 3,
   "metadata": {},
   "outputs": [
    {
     "data": {
      "text/plain": [
       "586"
      ]
     },
     "execution_count": 3,
     "metadata": {},
     "output_type": "execute_result"
    }
   ],
   "source": [
    "# List for holding lat_lngs and cities\n",
    "lat_lngs = []\n",
    "cities = []\n",
    "\n",
    "# Create a set of random lat and lng combinations\n",
    "lats = np.random.uniform(lat_range[0], lat_range[1], size=1500)\n",
    "lngs = np.random.uniform(lng_range[0], lng_range[1], size=1500)\n",
    "lat_lngs = zip(lats, lngs)\n",
    "\n",
    "# Identify nearest city for each lat, lng combination\n",
    "for lat_lng in lat_lngs:\n",
    "    city = citipy.nearest_city(lat_lng[0], lat_lng[1]).city_name\n",
    "    \n",
    "    # If the city is unique, then add it to a our cities list\n",
    "    if city not in cities:\n",
    "        cities.append(city)\n",
    "\n",
    "# Print the city count to confirm sufficient count\n",
    "len(cities)"
   ]
  },
  {
   "cell_type": "markdown",
   "metadata": {},
   "source": [
    "### Perform API Calls\n",
    "* Perform a weather check on each city using a series of successive API calls.\n",
    "* Include a print log of each city as it'sbeing processed (with the city number and city name).\n"
   ]
  },
  {
   "cell_type": "code",
   "execution_count": 38,
   "metadata": {
    "scrolled": true
   },
   "outputs": [
    {
     "name": "stdout",
     "output_type": "stream",
     "text": [
      "Processing Record 1|rocha.\n",
      "Processing Record 2|iqaluit.\n",
      "Processing Record 3|vaini.\n",
      "Processing Record 4|albany.\n",
      "Processing Record 5|norman wells.\n",
      "Processing Record 6|korla.\n",
      "Processing Record 7|butaritari.\n",
      "Processing Record 8|mataura.\n",
      "Processing Record 9|nikolskoye.\n",
      "Processing Record 10|puerto ayora.\n",
      "Processing Record 11|cape town.\n",
      "Processing Record 12|ilulissat.\n",
      "Processing Record 13|campoverde.\n",
      "Processing Record 14|port alfred.\n",
      "Processing Record 15|talnakh.\n",
      "Processing Record 16|new norfolk.\n",
      "Processing Record 17|pisco.\n",
      "Processing Record 18|pemangkat.\n",
      "Processing Record 19|punta arenas.\n",
      "Processing Record 20|kodiak.\n",
      "Processing Record 21|hofn.\n",
      "Processing Record 22|isangel.\n",
      "Processing Record 23|waddan.\n",
      "Processing Record 24|bethel.\n",
      "Processing Record 25|saint-philippe.\n",
      "Processing Record 26|rikitea.\n",
      "Processing Record 27|tiksi.\n",
      "Processing Record 28|jaboticabal.\n",
      "Processing Record 29|ushuaia.\n",
      "Processing Record 30|clyde river.\n",
      "Processing Record 31|tuktoyaktuk.\n",
      "Processing Record 32|esperance.\n",
      "City not found. Skipping...\n",
      "Processing Record 34|guerrero negro.\n",
      "Processing Record 35|tarabuco.\n",
      "Processing Record 36|port hardy.\n",
      "Processing Record 37|busselton.\n",
      "Processing Record 38|salinas.\n",
      "Processing Record 39|mahebourg.\n",
      "Processing Record 40|ixtapa.\n",
      "Processing Record 41|avarua.\n",
      "Processing Record 42|ponta delgada.\n",
      "Processing Record 43|hobart.\n",
      "Processing Record 44|klaksvik.\n",
      "Processing Record 45|haines junction.\n",
      "Processing Record 46|hasaki.\n",
      "Processing Record 47|bredasdorp.\n",
      "Processing Record 48|muncar.\n",
      "Processing Record 49|port elizabeth.\n",
      "Processing Record 50|asau.\n",
      "Processing Record 51|barcelos.\n",
      "Processing Record 52|ntoum.\n",
      "Processing Record 53|sorong.\n",
      "Processing Record 54|cidreira.\n",
      "Processing Record 55|thompson.\n",
      "Processing Record 56|dingle.\n",
      "Processing Record 57|fortuna.\n",
      "Processing Record 58|kavieng.\n",
      "Processing Record 59|atasu.\n",
      "Processing Record 60|hermanus.\n",
      "Processing Record 61|berlevag.\n",
      "Processing Record 62|lasa.\n",
      "Processing Record 63|fukue.\n",
      "Processing Record 64|jamestown.\n",
      "Processing Record 65|biak.\n",
      "Processing Record 66|dillon.\n",
      "Processing Record 67|grand gaube.\n",
      "City not found. Skipping...\n",
      "Processing Record 69|codrington.\n",
      "Processing Record 70|kloulklubed.\n",
      "City not found. Skipping...\n",
      "Processing Record 72|bubaque.\n",
      "Processing Record 73|bukene.\n",
      "Processing Record 74|chapais.\n",
      "Processing Record 75|the valley.\n",
      "Processing Record 76|ucluelet.\n",
      "Processing Record 77|georgetown.\n",
      "Processing Record 78|cherskiy.\n",
      "Processing Record 79|castro.\n",
      "City not found. Skipping...\n",
      "City not found. Skipping...\n",
      "Processing Record 82|vanavara.\n",
      "Processing Record 83|hilo.\n",
      "Processing Record 84|whitianga.\n",
      "Processing Record 85|salvador.\n",
      "Processing Record 86|mahibadhoo.\n",
      "Processing Record 87|atuona.\n",
      "Processing Record 88|oranjemund.\n",
      "Processing Record 89|riyadh.\n",
      "Processing Record 90|leh.\n",
      "Processing Record 91|marawi.\n",
      "Processing Record 92|wagar.\n",
      "Processing Record 93|ponta do sol.\n",
      "Processing Record 94|san patricio.\n",
      "Processing Record 95|lebu.\n",
      "City not found. Skipping...\n",
      "Processing Record 97|teacapan.\n",
      "City not found. Skipping...\n",
      "Processing Record 99|chokurdakh.\n",
      "Processing Record 100|provideniya.\n",
      "Processing Record 101|karasuk.\n",
      "Processing Record 102|kupang.\n",
      "Processing Record 103|alofi.\n",
      "Processing Record 104|anshun.\n",
      "Processing Record 105|vestmannaeyjar.\n",
      "Processing Record 106|anadyr.\n",
      "Processing Record 107|kangaatsiaq.\n",
      "Processing Record 108|half moon bay.\n",
      "Processing Record 109|riviere-du-loup.\n",
      "Processing Record 110|melville.\n",
      "Processing Record 111|jequie.\n",
      "Processing Record 112|corralillo.\n",
      "Processing Record 113|ishigaki.\n",
      "Processing Record 114|inhambane.\n",
      "Processing Record 115|takoradi.\n",
      "Processing Record 116|severo-kurilsk.\n",
      "Processing Record 117|bengkulu.\n",
      "Processing Record 118|pevek.\n",
      "Processing Record 119|itupiranga.\n",
      "Processing Record 120|bluff.\n",
      "Processing Record 121|airai.\n",
      "Processing Record 122|leningradskiy.\n",
      "Processing Record 123|poya.\n",
      "Processing Record 124|trairi.\n",
      "Processing Record 125|camana.\n",
      "Processing Record 126|yulara.\n",
      "Processing Record 127|sao filipe.\n",
      "Processing Record 128|pau dos ferros.\n",
      "Processing Record 129|roebourne.\n",
      "Processing Record 130|dikson.\n",
      "Processing Record 131|nizwa.\n",
      "City not found. Skipping...\n",
      "Processing Record 133|warmbad.\n",
      "Processing Record 134|teya.\n",
      "Processing Record 135|krasnoselkup.\n",
      "Processing Record 136|kaitangata.\n",
      "Processing Record 137|bagn.\n",
      "Processing Record 138|ribeira grande.\n",
      "Processing Record 139|marsaxlokk.\n",
      "Processing Record 140|prince rupert.\n",
      "Processing Record 141|raudeberg.\n",
      "Processing Record 142|khatanga.\n",
      "Processing Record 143|kismayo.\n",
      "Processing Record 144|arraial do cabo.\n",
      "Processing Record 145|tateyama.\n",
      "Processing Record 146|upernavik.\n",
      "Processing Record 147|doha.\n",
      "Processing Record 148|castrillon.\n",
      "Processing Record 149|thinadhoo.\n",
      "Processing Record 150|saskylakh.\n",
      "Processing Record 151|nabire.\n",
      "Processing Record 152|myitkyina.\n",
      "Processing Record 153|harper.\n",
      "Processing Record 154|jefferson city.\n",
      "Processing Record 155|gaoua.\n",
      "Processing Record 156|victoria.\n",
      "Processing Record 157|saint-denis.\n",
      "Processing Record 158|mangrol.\n",
      "Processing Record 159|itarema.\n",
      "Processing Record 160|puro.\n",
      "Processing Record 161|yerofey pavlovich.\n",
      "City not found. Skipping...\n",
      "Processing Record 163|carnarvon.\n",
      "Processing Record 164|cornwall.\n",
      "Processing Record 165|fairbanks.\n",
      "Processing Record 166|kalmunai.\n",
      "Processing Record 167|nueva gerona.\n",
      "Processing Record 168|quzhou.\n",
      "Processing Record 169|jardim.\n",
      "Processing Record 170|fomboni.\n",
      "Processing Record 171|nemuro.\n",
      "Processing Record 172|zakamensk.\n",
      "Processing Record 173|yarovoye.\n",
      "City not found. Skipping...\n",
      "Processing Record 175|hithadhoo.\n",
      "Processing Record 176|mombetsu.\n",
      "Processing Record 177|buin.\n",
      "Processing Record 178|beringovskiy.\n",
      "Processing Record 179|uusikaupunki.\n",
      "Processing Record 180|green river.\n",
      "Processing Record 181|sao joao da barra.\n",
      "City not found. Skipping...\n",
      "Processing Record 183|walvis bay.\n",
      "Processing Record 184|neuquen.\n",
      "Processing Record 185|preobrazheniye.\n",
      "Processing Record 186|maputo.\n",
      "Processing Record 187|barrow.\n",
      "Processing Record 188|saint george.\n",
      "Processing Record 189|silvan.\n",
      "City not found. Skipping...\n",
      "City not found. Skipping...\n",
      "Processing Record 192|luderitz.\n",
      "Processing Record 193|tabou.\n",
      "City not found. Skipping...\n",
      "Processing Record 195|portland.\n",
      "Processing Record 196|lhokseumawe.\n",
      "Processing Record 197|santa isabel do rio negro.\n",
      "Processing Record 198|hamilton.\n",
      "Processing Record 199|abha.\n",
      "City not found. Skipping...\n",
      "Processing Record 201|qaanaaq.\n",
      "Processing Record 202|broome.\n",
      "Processing Record 203|saint-pierre.\n",
      "Processing Record 204|yellowknife.\n",
      "Processing Record 205|hambantota.\n",
      "City not found. Skipping...\n",
      "Processing Record 207|husavik.\n",
      "Processing Record 208|batemans bay.\n",
      "Processing Record 209|tura.\n",
      "Processing Record 210|te anau.\n",
      "Processing Record 211|ballina.\n",
      "Processing Record 212|marzuq.\n",
      "Processing Record 213|tanete.\n",
      "Processing Record 214|ahipara.\n",
      "Processing Record 215|north shore.\n",
      "Processing Record 216|rio gallegos.\n",
      "Processing Record 217|souillac.\n",
      "Processing Record 218|nara.\n",
      "Processing Record 219|lusambo.\n",
      "City not found. Skipping...\n",
      "Processing Record 221|namibe.\n",
      "Processing Record 222|jiangyou.\n",
      "City not found. Skipping...\n",
      "Processing Record 224|saint anthony.\n",
      "Processing Record 225|villa carlos paz.\n",
      "Processing Record 226|chakwal.\n",
      "Processing Record 227|kapaa.\n",
      "Processing Record 228|sandane.\n",
      "Processing Record 229|cap malheureux.\n",
      "Processing Record 230|abalak.\n",
      "Processing Record 231|maraba.\n",
      "Processing Record 232|qaqortoq.\n",
      "Processing Record 233|tula.\n",
      "Processing Record 234|mount gambier.\n",
      "City not found. Skipping...\n",
      "Processing Record 236|kulhudhuffushi.\n",
      "Processing Record 237|evensk.\n",
      "City not found. Skipping...\n",
      "Processing Record 239|westport.\n",
      "Processing Record 240|sao felix do xingu.\n",
      "Processing Record 241|bilma.\n",
      "Processing Record 242|dali.\n",
      "Processing Record 243|cayenne.\n",
      "City not found. Skipping...\n",
      "Processing Record 245|concepcion.\n",
      "Processing Record 246|kruisfontein.\n",
      "Processing Record 247|andenes.\n",
      "Processing Record 248|lianran.\n",
      "City not found. Skipping...\n",
      "Processing Record 250|pangnirtung.\n",
      "Processing Record 251|abu dhabi.\n",
      "City not found. Skipping...\n",
      "Processing Record 253|sabzevar.\n",
      "Processing Record 254|bayanday.\n",
      "Processing Record 255|bulalacao.\n",
      "Processing Record 256|atbasar.\n",
      "Processing Record 257|chuy.\n",
      "City not found. Skipping...\n",
      "Processing Record 259|izumo.\n",
      "Processing Record 260|tilichiki.\n"
     ]
    },
    {
     "name": "stdout",
     "output_type": "stream",
     "text": [
      "Processing Record 261|severo-yeniseyskiy.\n",
      "Processing Record 262|kapuskasing.\n",
      "City not found. Skipping...\n",
      "Processing Record 264|geraldton.\n",
      "Processing Record 265|sausar.\n",
      "Processing Record 266|manono.\n",
      "Processing Record 267|nanortalik.\n",
      "Processing Record 268|ngunguru.\n",
      "Processing Record 269|sitka.\n",
      "Processing Record 270|sorland.\n",
      "Processing Record 271|okha.\n",
      "Processing Record 272|east london.\n",
      "Processing Record 273|otradnoye.\n",
      "Processing Record 274|dong hoi.\n",
      "Processing Record 275|horsham.\n",
      "Processing Record 276|caravelas.\n",
      "Processing Record 277|accra.\n",
      "Processing Record 278|wenzhou.\n",
      "Processing Record 279|kamenskiy.\n",
      "Processing Record 280|yatou.\n",
      "Processing Record 281|livingstonia.\n",
      "Processing Record 282|sioux lookout.\n",
      "Processing Record 283|mar del plata.\n",
      "Processing Record 284|grindavik.\n",
      "City not found. Skipping...\n",
      "Processing Record 286|sibolga.\n",
      "Processing Record 287|itamaraca.\n",
      "Processing Record 288|beira.\n",
      "Processing Record 289|katsuura.\n",
      "Processing Record 290|san cristobal.\n",
      "Processing Record 291|bani.\n",
      "Processing Record 292|lukulu.\n",
      "Processing Record 293|tasiilaq.\n",
      "Processing Record 294|strezhevoy.\n",
      "Processing Record 295|lufilufi.\n",
      "Processing Record 296|nouadhibou.\n",
      "Processing Record 297|mogadishu.\n",
      "Processing Record 298|killybegs.\n",
      "Processing Record 299|zhigansk.\n",
      "Processing Record 300|ostrovnoy.\n",
      "Processing Record 301|marathon.\n",
      "Processing Record 302|puerto baquerizo moreno.\n",
      "Processing Record 303|spalding.\n",
      "Processing Record 304|beian.\n",
      "Processing Record 305|sihor.\n",
      "Processing Record 306|russell.\n",
      "City not found. Skipping...\n",
      "Processing Record 308|kant.\n",
      "Processing Record 309|kaa-khem.\n",
      "Processing Record 310|san quintin.\n",
      "Processing Record 311|tiznit.\n",
      "Processing Record 312|salinopolis.\n",
      "Processing Record 313|ambulu.\n",
      "Processing Record 314|vestmanna.\n",
      "Processing Record 315|flinders.\n",
      "Processing Record 316|si bun ruang.\n",
      "Processing Record 317|kieta.\n",
      "City not found. Skipping...\n",
      "Processing Record 319|ancud.\n",
      "Processing Record 320|toguchin.\n",
      "Processing Record 321|saint-jean-de-la-ruelle.\n",
      "Processing Record 322|dekar.\n",
      "Processing Record 323|ananas.\n",
      "Processing Record 324|longyearbyen.\n",
      "City not found. Skipping...\n",
      "City not found. Skipping...\n",
      "Processing Record 327|vila velha.\n",
      "Processing Record 328|saldanha.\n",
      "Processing Record 329|urusha.\n",
      "Processing Record 330|gagra.\n",
      "Processing Record 331|yokote.\n",
      "Processing Record 332|pitimbu.\n",
      "Processing Record 333|roswell.\n",
      "Processing Record 334|great yarmouth.\n",
      "Processing Record 335|tiarei.\n",
      "Processing Record 336|santiago del estero.\n",
      "Processing Record 337|luanda.\n",
      "Processing Record 338|hattiesburg.\n",
      "City not found. Skipping...\n",
      "Processing Record 340|bonavista.\n",
      "City not found. Skipping...\n",
      "Processing Record 342|rawson.\n",
      "Processing Record 343|el real de santa maria.\n",
      "Processing Record 344|dahra.\n",
      "Processing Record 345|aswan.\n",
      "Processing Record 346|nevsehir.\n",
      "Processing Record 347|pincher creek.\n",
      "Processing Record 348|porto belo.\n",
      "Processing Record 349|touros.\n",
      "Processing Record 350|puerto narino.\n",
      "Processing Record 351|san rafael del sur.\n",
      "Processing Record 352|najran.\n",
      "Processing Record 353|hagere selam.\n",
      "Processing Record 354|pontian kecil.\n",
      "City not found. Skipping...\n",
      "Processing Record 356|methoni.\n",
      "Processing Record 357|nizhniy baskunchak.\n",
      "Processing Record 358|along.\n",
      "Processing Record 359|kaitong.\n",
      "Processing Record 360|kahului.\n",
      "Processing Record 361|djambala.\n",
      "Processing Record 362|suluq.\n",
      "Processing Record 363|misratah.\n",
      "Processing Record 364|komsomolskiy.\n",
      "Processing Record 365|margate.\n",
      "Processing Record 366|tuatapere.\n",
      "Processing Record 367|sandwick.\n",
      "Processing Record 368|axim.\n",
      "Processing Record 369|torbay.\n",
      "City not found. Skipping...\n",
      "Processing Record 371|zhanaozen.\n",
      "Processing Record 372|barra do garcas.\n",
      "City not found. Skipping...\n",
      "Processing Record 374|bossangoa.\n",
      "Processing Record 375|coquimbo.\n",
      "Processing Record 376|malakal.\n",
      "Processing Record 377|mae sot.\n",
      "Processing Record 378|soe.\n",
      "Processing Record 379|port lincoln.\n",
      "Processing Record 380|ahuimanu.\n",
      "Processing Record 381|ambilobe.\n",
      "Processing Record 382|voh.\n",
      "Processing Record 383|henties bay.\n",
      "Processing Record 384|taylorville.\n",
      "Processing Record 385|manaure.\n",
      "Processing Record 386|nampula.\n",
      "Processing Record 387|okhotsk.\n",
      "Processing Record 388|tocache.\n",
      "Processing Record 389|xingyi.\n",
      "Processing Record 390|luau.\n",
      "Processing Record 391|aklavik.\n",
      "Processing Record 392|saint-andre-avellin.\n",
      "Processing Record 393|nadym.\n",
      "Processing Record 394|da nang.\n",
      "City not found. Skipping...\n",
      "City not found. Skipping...\n",
      "Processing Record 397|tomohon.\n",
      "Processing Record 398|coihueco.\n",
      "Processing Record 399|boulder.\n",
      "Processing Record 400|colon.\n",
      "Processing Record 401|leczyca.\n",
      "Processing Record 402|forestville.\n",
      "Processing Record 403|hualmay.\n",
      "Processing Record 404|port-cartier.\n",
      "Processing Record 405|mananjary.\n",
      "Processing Record 406|xuddur.\n",
      "Processing Record 407|bambous virieux.\n",
      "Processing Record 408|azul.\n",
      "Processing Record 409|darhan.\n",
      "Processing Record 410|charlestown.\n",
      "Processing Record 411|charters towers.\n",
      "Processing Record 412|ahmadpur sial.\n",
      "Processing Record 413|ferreira do alentejo.\n",
      "City not found. Skipping...\n",
      "Processing Record 415|acaponeta.\n",
      "Processing Record 416|roald.\n",
      "Processing Record 417|yumen.\n",
      "Processing Record 418|vardo.\n",
      "Processing Record 419|byron bay.\n",
      "Processing Record 420|ambon.\n",
      "Processing Record 421|ozoir-la-ferriere.\n",
      "City not found. Skipping...\n",
      "Processing Record 423|seymchan.\n",
      "Processing Record 424|barabai.\n",
      "Processing Record 425|shache.\n",
      "Processing Record 426|la rioja.\n",
      "Processing Record 427|cabo san lucas.\n",
      "Processing Record 428|gillette.\n",
      "Processing Record 429|kasulu.\n",
      "Processing Record 430|yerbogachen.\n",
      "Processing Record 431|entre rios.\n",
      "Processing Record 432|diapaga.\n",
      "Processing Record 433|chapada dos guimaraes.\n",
      "Processing Record 434|keetmanshoop.\n",
      "City not found. Skipping...\n",
      "Processing Record 436|miles city.\n",
      "Processing Record 437|labuhan.\n",
      "Processing Record 438|anloga.\n",
      "Processing Record 439|wajir.\n",
      "Processing Record 440|hirara.\n",
      "Processing Record 441|berdigestyakh.\n",
      "Processing Record 442|bordighera.\n",
      "City not found. Skipping...\n",
      "Processing Record 444|crasna.\n",
      "Processing Record 445|sobolevo.\n",
      "Processing Record 446|lukovetskiy.\n",
      "Processing Record 447|urucui.\n",
      "Processing Record 448|weligama.\n",
      "Processing Record 449|ketchikan.\n",
      "Processing Record 450|olafsvik.\n",
      "Processing Record 451|havre-saint-pierre.\n",
      "Processing Record 452|azatavan.\n",
      "City not found. Skipping...\n",
      "Processing Record 454|kletskaya.\n",
      "Processing Record 455|suratgarh.\n",
      "Processing Record 456|turukhansk.\n",
      "Processing Record 457|coahuayana.\n",
      "Processing Record 458|minna.\n",
      "Processing Record 459|laguna.\n",
      "Processing Record 460|ljungby.\n",
      "Processing Record 461|amapa.\n",
      "Processing Record 462|moose factory.\n",
      "Processing Record 463|santo estevao.\n",
      "Processing Record 464|douentza.\n",
      "Processing Record 465|ghanzi.\n",
      "City not found. Skipping...\n",
      "Processing Record 467|chicama.\n",
      "City not found. Skipping...\n",
      "Processing Record 469|srednekolymsk.\n",
      "Processing Record 470|gat.\n",
      "Processing Record 471|bambanglipuro.\n",
      "Processing Record 472|huayang.\n",
      "Processing Record 473|auki.\n",
      "Processing Record 474|lesnoy.\n",
      "Processing Record 475|dodge city.\n",
      "Processing Record 476|vostok.\n",
      "City not found. Skipping...\n",
      "Processing Record 478|bathsheba.\n",
      "Processing Record 479|santa rosa.\n",
      "Processing Record 480|kobelyaky.\n",
      "Processing Record 481|usinsk.\n",
      "Processing Record 482|atar.\n",
      "Processing Record 483|krasnyy chikoy.\n",
      "Processing Record 484|port macquarie.\n",
      "Processing Record 485|kavaratti.\n",
      "Processing Record 486|vanimo.\n",
      "Processing Record 487|inta.\n",
      "Processing Record 488|nevers.\n",
      "Processing Record 489|la ronge.\n",
      "Processing Record 490|douglas.\n",
      "Processing Record 491|college.\n",
      "Processing Record 492|kathu.\n",
      "Processing Record 493|poronaysk.\n",
      "Processing Record 494|novoseleznevo.\n",
      "Processing Record 495|sao jose da coroa grande.\n",
      "City not found. Skipping...\n",
      "Processing Record 497|rio grande.\n",
      "Processing Record 498|kalmar.\n",
      "Processing Record 499|rawah.\n",
      "Processing Record 500|aykhal.\n",
      "City not found. Skipping...\n",
      "City not found. Skipping...\n",
      "Processing Record 503|verkhozim.\n",
      "Processing Record 504|faanui.\n",
      "Processing Record 505|lata.\n",
      "Processing Record 506|kaniama.\n",
      "Processing Record 507|ossora.\n",
      "Processing Record 508|ouallam.\n",
      "Processing Record 509|troitsko-pechorsk.\n",
      "Processing Record 510|manchester.\n",
      "Processing Record 511|bloomfield.\n",
      "City not found. Skipping...\n",
      "Processing Record 513|inirida.\n",
      "Processing Record 514|mbandaka.\n",
      "Processing Record 515|maniitsoq.\n"
     ]
    },
    {
     "name": "stdout",
     "output_type": "stream",
     "text": [
      "Processing Record 516|kirakira.\n",
      "Processing Record 517|akodia.\n",
      "Processing Record 518|camacha.\n",
      "City not found. Skipping...\n",
      "Processing Record 520|tucuman.\n",
      "Processing Record 521|herat.\n",
      "Processing Record 522|chililabombwe.\n",
      "Processing Record 523|manta.\n",
      "Processing Record 524|karpogory.\n",
      "Processing Record 525|altamont.\n",
      "Processing Record 526|ushtobe.\n",
      "Processing Record 527|alta floresta.\n",
      "Processing Record 528|savannah bight.\n",
      "Processing Record 529|mari-turek.\n",
      "Processing Record 530|yaan.\n",
      "Processing Record 531|houma.\n",
      "Processing Record 532|stornoway.\n",
      "Processing Record 533|benjamin constant.\n",
      "Processing Record 534|kashi.\n",
      "Processing Record 535|dosso.\n",
      "Processing Record 536|tarko-sale.\n",
      "Processing Record 537|waingapu.\n",
      "Processing Record 538|wasilla.\n",
      "Processing Record 539|guira de melena.\n",
      "Processing Record 540|liaozhong.\n",
      "Processing Record 541|lompoc.\n",
      "Processing Record 542|annecy-le-vieux.\n",
      "Processing Record 543|mumford.\n",
      "Processing Record 544|hami.\n",
      "Processing Record 545|belmonte.\n",
      "Processing Record 546|salalah.\n",
      "Processing Record 547|lazaro cardenas.\n",
      "Processing Record 548|bandrele.\n",
      "Processing Record 549|brownsville.\n",
      "Processing Record 550|port saint lucie.\n",
      "Processing Record 551|sampit.\n",
      "City not found. Skipping...\n",
      "Processing Record 553|chokwe.\n",
      "Processing Record 554|mamallapuram.\n",
      "Processing Record 555|arinos.\n",
      "Processing Record 556|noumea.\n",
      "Processing Record 557|saint helens.\n",
      "Processing Record 558|vallenar.\n",
      "Processing Record 559|acajutla.\n",
      "Processing Record 560|skibbereen.\n",
      "Processing Record 561|meulaboh.\n",
      "Processing Record 562|tumpat.\n",
      "Processing Record 563|san juan.\n",
      "Processing Record 564|hellvik.\n",
      "Processing Record 565|farah.\n",
      "City not found. Skipping...\n",
      "Processing Record 567|caarapo.\n",
      "Processing Record 568|oktyabrskiy.\n",
      "City not found. Skipping...\n",
      "Processing Record 570|lubango.\n",
      "Processing Record 571|kyra.\n",
      "Processing Record 572|rio cuarto.\n",
      "Processing Record 573|fuyu.\n",
      "Processing Record 574|remanso.\n",
      "Processing Record 575|magadan.\n",
      "Processing Record 576|quartucciu.\n",
      "Processing Record 577|padang.\n",
      "Processing Record 578|barra do bugres.\n",
      "Processing Record 579|modra.\n",
      "City not found. Skipping...\n",
      "Processing Record 581|la ciotat.\n",
      "Processing Record 582|blagoyevo.\n",
      "Processing Record 583|turan.\n",
      "Processing Record 584|carutapera.\n",
      "Processing Record 585|zarand.\n",
      "Processing Record 586|sungairaya.\n"
     ]
    }
   ],
   "source": [
    "url = \"http://api.openweathermap.org/data/2.5/weather?\"\n",
    "\n",
    "city_count=0\n",
    "max_temp=[]\n",
    "humidity=[]\n",
    "cloudiness=[]\n",
    "wind_speed=[]\n",
    "lat=[]\n",
    "lng=[]\n",
    "country=[]\n",
    "date=[]\n",
    "city_list=[]\n",
    "\n",
    "#Pull from API using the imperial units so temperature will be in Fahrenheit\n",
    "\n",
    "for each_city in cities:\n",
    "    try:\n",
    "        query_url = url + \"appid=\" + weather_api_key + \"&q=\" + each_city+\"&units=imperial\"\n",
    "        weather_response = requests.get(query_url).json()\n",
    "        city_count=city_count+1\n",
    "        city_list.append(each_city)\n",
    "        max_temp.append(weather_response['main']['temp_max'])\n",
    "        humidity.append(weather_response['main']['humidity'])\n",
    "        cloudiness.append(weather_response['clouds']['all'])\n",
    "        wind_speed.append(weather_response['wind']['speed'])\n",
    "        lat.append(weather_response['coord']['lat'])\n",
    "        lng.append(weather_response['coord']['lon'])\n",
    "        country.append(weather_response['sys']['country'])\n",
    "        date.append(weather_response['dt'])\n",
    "        print(f\"Processing Record {city_count}|{each_city}.\")\n",
    "    except:\n",
    "        print('City not found. Skipping...')\n"
   ]
  },
  {
   "cell_type": "code",
   "execution_count": 39,
   "metadata": {},
   "outputs": [
    {
     "data": {
      "text/html": [
       "<div>\n",
       "<style scoped>\n",
       "    .dataframe tbody tr th:only-of-type {\n",
       "        vertical-align: middle;\n",
       "    }\n",
       "\n",
       "    .dataframe tbody tr th {\n",
       "        vertical-align: top;\n",
       "    }\n",
       "\n",
       "    .dataframe thead th {\n",
       "        text-align: right;\n",
       "    }\n",
       "</style>\n",
       "<table border=\"1\" class=\"dataframe\">\n",
       "  <thead>\n",
       "    <tr style=\"text-align: right;\">\n",
       "      <th></th>\n",
       "      <th>City</th>\n",
       "      <th>Lat</th>\n",
       "      <th>Lng</th>\n",
       "      <th>Max Temp</th>\n",
       "      <th>Humidity</th>\n",
       "      <th>Cloudiness</th>\n",
       "      <th>Wind Speed</th>\n",
       "      <th>Country</th>\n",
       "      <th>Date</th>\n",
       "    </tr>\n",
       "  </thead>\n",
       "  <tbody>\n",
       "    <tr>\n",
       "      <th>0</th>\n",
       "      <td>rocha</td>\n",
       "      <td>-34.4833</td>\n",
       "      <td>-54.3333</td>\n",
       "      <td>74.55</td>\n",
       "      <td>62</td>\n",
       "      <td>0</td>\n",
       "      <td>12.17</td>\n",
       "      <td>UY</td>\n",
       "      <td>1611782135</td>\n",
       "    </tr>\n",
       "    <tr>\n",
       "      <th>1</th>\n",
       "      <td>iqaluit</td>\n",
       "      <td>63.7506</td>\n",
       "      <td>-68.5145</td>\n",
       "      <td>-4</td>\n",
       "      <td>71</td>\n",
       "      <td>1</td>\n",
       "      <td>16.11</td>\n",
       "      <td>CA</td>\n",
       "      <td>1611782135</td>\n",
       "    </tr>\n",
       "    <tr>\n",
       "      <th>2</th>\n",
       "      <td>vaini</td>\n",
       "      <td>-21.2</td>\n",
       "      <td>-175.2</td>\n",
       "      <td>75.2</td>\n",
       "      <td>94</td>\n",
       "      <td>90</td>\n",
       "      <td>8.05</td>\n",
       "      <td>TO</td>\n",
       "      <td>1611782135</td>\n",
       "    </tr>\n",
       "    <tr>\n",
       "      <th>3</th>\n",
       "      <td>albany</td>\n",
       "      <td>42.6001</td>\n",
       "      <td>-73.9662</td>\n",
       "      <td>30</td>\n",
       "      <td>62</td>\n",
       "      <td>81</td>\n",
       "      <td>13</td>\n",
       "      <td>US</td>\n",
       "      <td>1611782082</td>\n",
       "    </tr>\n",
       "    <tr>\n",
       "      <th>4</th>\n",
       "      <td>norman wells</td>\n",
       "      <td>65.282</td>\n",
       "      <td>-126.833</td>\n",
       "      <td>-23.8</td>\n",
       "      <td>69</td>\n",
       "      <td>75</td>\n",
       "      <td>4.45</td>\n",
       "      <td>CA</td>\n",
       "      <td>1611782136</td>\n",
       "    </tr>\n",
       "  </tbody>\n",
       "</table>\n",
       "</div>"
      ],
      "text/plain": [
       "           City      Lat      Lng Max Temp Humidity Cloudiness Wind Speed  \\\n",
       "0         rocha -34.4833 -54.3333    74.55       62          0      12.17   \n",
       "1       iqaluit  63.7506 -68.5145       -4       71          1      16.11   \n",
       "2         vaini    -21.2   -175.2     75.2       94         90       8.05   \n",
       "3        albany  42.6001 -73.9662       30       62         81         13   \n",
       "4  norman wells   65.282 -126.833    -23.8       69         75       4.45   \n",
       "\n",
       "  Country        Date  \n",
       "0      UY  1611782135  \n",
       "1      CA  1611782135  \n",
       "2      TO  1611782135  \n",
       "3      US  1611782082  \n",
       "4      CA  1611782136  "
      ]
     },
     "execution_count": 39,
     "metadata": {},
     "output_type": "execute_result"
    }
   ],
   "source": [
    "weather_dict={\"City\": city_list,\n",
    "              \"Lat\": lat,\n",
    "              \"Lng\": lng,\n",
    "              \"Max Temp\": max_temp,\n",
    "              \"Humidity\": humidity,\n",
    "              \"Cloudiness\": cloudiness,\n",
    "              \"Wind Speed\": wind_speed,\n",
    "              \"Country\":country,\n",
    "              \"Date\": date\n",
    "}\n",
    "\n",
    "weather_data = pd.DataFrame.from_dict(weather_dict, orient='index')\n",
    "\n",
    "weather_data=weather_data.transpose()\n",
    "weather_data.head()\n",
    "   "
   ]
  },
  {
   "cell_type": "markdown",
   "metadata": {},
   "source": [
    "### Convert Raw Data to DataFrame\n",
    "* Export the city data into a .csv.\n",
    "* Display the DataFrame"
   ]
  },
  {
   "cell_type": "code",
   "execution_count": 40,
   "metadata": {},
   "outputs": [],
   "source": [
    "filename = \"weather_data.csv\"\n",
    "weather_data.to_csv(filename, index=False, header=True)"
   ]
  },
  {
   "cell_type": "code",
   "execution_count": 41,
   "metadata": {},
   "outputs": [
    {
     "data": {
      "text/html": [
       "<div>\n",
       "<style scoped>\n",
       "    .dataframe tbody tr th:only-of-type {\n",
       "        vertical-align: middle;\n",
       "    }\n",
       "\n",
       "    .dataframe tbody tr th {\n",
       "        vertical-align: top;\n",
       "    }\n",
       "\n",
       "    .dataframe thead th {\n",
       "        text-align: right;\n",
       "    }\n",
       "</style>\n",
       "<table border=\"1\" class=\"dataframe\">\n",
       "  <thead>\n",
       "    <tr style=\"text-align: right;\">\n",
       "      <th></th>\n",
       "      <th>City</th>\n",
       "      <th>Lat</th>\n",
       "      <th>Lng</th>\n",
       "      <th>Max Temp</th>\n",
       "      <th>Humidity</th>\n",
       "      <th>Cloudiness</th>\n",
       "      <th>Wind Speed</th>\n",
       "      <th>Country</th>\n",
       "      <th>Date</th>\n",
       "    </tr>\n",
       "  </thead>\n",
       "  <tbody>\n",
       "    <tr>\n",
       "      <th>0</th>\n",
       "      <td>rocha</td>\n",
       "      <td>-34.4833</td>\n",
       "      <td>-54.3333</td>\n",
       "      <td>74.55</td>\n",
       "      <td>62.0</td>\n",
       "      <td>0.0</td>\n",
       "      <td>12.17</td>\n",
       "      <td>UY</td>\n",
       "      <td>1.611782e+09</td>\n",
       "    </tr>\n",
       "    <tr>\n",
       "      <th>1</th>\n",
       "      <td>iqaluit</td>\n",
       "      <td>63.7506</td>\n",
       "      <td>-68.5145</td>\n",
       "      <td>-4.00</td>\n",
       "      <td>71.0</td>\n",
       "      <td>1.0</td>\n",
       "      <td>16.11</td>\n",
       "      <td>CA</td>\n",
       "      <td>1.611782e+09</td>\n",
       "    </tr>\n",
       "    <tr>\n",
       "      <th>2</th>\n",
       "      <td>vaini</td>\n",
       "      <td>-21.2000</td>\n",
       "      <td>-175.2000</td>\n",
       "      <td>75.20</td>\n",
       "      <td>94.0</td>\n",
       "      <td>90.0</td>\n",
       "      <td>8.05</td>\n",
       "      <td>TO</td>\n",
       "      <td>1.611782e+09</td>\n",
       "    </tr>\n",
       "    <tr>\n",
       "      <th>3</th>\n",
       "      <td>albany</td>\n",
       "      <td>42.6001</td>\n",
       "      <td>-73.9662</td>\n",
       "      <td>30.00</td>\n",
       "      <td>62.0</td>\n",
       "      <td>81.0</td>\n",
       "      <td>13.00</td>\n",
       "      <td>US</td>\n",
       "      <td>1.611782e+09</td>\n",
       "    </tr>\n",
       "    <tr>\n",
       "      <th>4</th>\n",
       "      <td>norman wells</td>\n",
       "      <td>65.2820</td>\n",
       "      <td>-126.8329</td>\n",
       "      <td>-23.80</td>\n",
       "      <td>69.0</td>\n",
       "      <td>75.0</td>\n",
       "      <td>4.45</td>\n",
       "      <td>CA</td>\n",
       "      <td>1.611782e+09</td>\n",
       "    </tr>\n",
       "  </tbody>\n",
       "</table>\n",
       "</div>"
      ],
      "text/plain": [
       "           City      Lat       Lng  Max Temp  Humidity  Cloudiness  \\\n",
       "0         rocha -34.4833  -54.3333     74.55      62.0         0.0   \n",
       "1       iqaluit  63.7506  -68.5145     -4.00      71.0         1.0   \n",
       "2         vaini -21.2000 -175.2000     75.20      94.0        90.0   \n",
       "3        albany  42.6001  -73.9662     30.00      62.0        81.0   \n",
       "4  norman wells  65.2820 -126.8329    -23.80      69.0        75.0   \n",
       "\n",
       "   Wind Speed Country          Date  \n",
       "0       12.17      UY  1.611782e+09  \n",
       "1       16.11      CA  1.611782e+09  \n",
       "2        8.05      TO  1.611782e+09  \n",
       "3       13.00      US  1.611782e+09  \n",
       "4        4.45      CA  1.611782e+09  "
      ]
     },
     "execution_count": 41,
     "metadata": {},
     "output_type": "execute_result"
    }
   ],
   "source": [
    "weather_df = pd.read_csv(\"weather_data.csv\") \n",
    "\n",
    "weather_df.head()"
   ]
  },
  {
   "cell_type": "markdown",
   "metadata": {},
   "source": [
    "## Inspect the data and remove the cities where the humidity > 100%.\n",
    "----\n",
    "Skip this step if there are no cities that have humidity > 100%. "
   ]
  },
  {
   "cell_type": "code",
   "execution_count": 42,
   "metadata": {},
   "outputs": [
    {
     "data": {
      "text/html": [
       "<div>\n",
       "<style scoped>\n",
       "    .dataframe tbody tr th:only-of-type {\n",
       "        vertical-align: middle;\n",
       "    }\n",
       "\n",
       "    .dataframe tbody tr th {\n",
       "        vertical-align: top;\n",
       "    }\n",
       "\n",
       "    .dataframe thead th {\n",
       "        text-align: right;\n",
       "    }\n",
       "</style>\n",
       "<table border=\"1\" class=\"dataframe\">\n",
       "  <thead>\n",
       "    <tr style=\"text-align: right;\">\n",
       "      <th></th>\n",
       "      <th>Lat</th>\n",
       "      <th>Lng</th>\n",
       "      <th>Max Temp</th>\n",
       "      <th>Humidity</th>\n",
       "      <th>Cloudiness</th>\n",
       "      <th>Wind Speed</th>\n",
       "      <th>Date</th>\n",
       "    </tr>\n",
       "  </thead>\n",
       "  <tbody>\n",
       "    <tr>\n",
       "      <th>count</th>\n",
       "      <td>532.000000</td>\n",
       "      <td>532.000000</td>\n",
       "      <td>532.000000</td>\n",
       "      <td>532.000000</td>\n",
       "      <td>532.000000</td>\n",
       "      <td>532.000000</td>\n",
       "      <td>5.320000e+02</td>\n",
       "    </tr>\n",
       "    <tr>\n",
       "      <th>mean</th>\n",
       "      <td>19.462834</td>\n",
       "      <td>17.433942</td>\n",
       "      <td>50.045075</td>\n",
       "      <td>74.110902</td>\n",
       "      <td>55.197368</td>\n",
       "      <td>8.420658</td>\n",
       "      <td>1.611782e+09</td>\n",
       "    </tr>\n",
       "    <tr>\n",
       "      <th>std</th>\n",
       "      <td>33.406072</td>\n",
       "      <td>88.698747</td>\n",
       "      <td>32.872823</td>\n",
       "      <td>19.285469</td>\n",
       "      <td>39.642049</td>\n",
       "      <td>5.956980</td>\n",
       "      <td>6.113930e+01</td>\n",
       "    </tr>\n",
       "    <tr>\n",
       "      <th>min</th>\n",
       "      <td>-54.800000</td>\n",
       "      <td>-175.200000</td>\n",
       "      <td>-47.810000</td>\n",
       "      <td>11.000000</td>\n",
       "      <td>0.000000</td>\n",
       "      <td>0.130000</td>\n",
       "      <td>1.611782e+09</td>\n",
       "    </tr>\n",
       "    <tr>\n",
       "      <th>25%</th>\n",
       "      <td>-8.367075</td>\n",
       "      <td>-60.658325</td>\n",
       "      <td>30.000000</td>\n",
       "      <td>65.000000</td>\n",
       "      <td>11.750000</td>\n",
       "      <td>3.595000</td>\n",
       "      <td>1.611782e+09</td>\n",
       "    </tr>\n",
       "    <tr>\n",
       "      <th>50%</th>\n",
       "      <td>22.523200</td>\n",
       "      <td>18.341750</td>\n",
       "      <td>60.800000</td>\n",
       "      <td>79.000000</td>\n",
       "      <td>74.500000</td>\n",
       "      <td>7.445000</td>\n",
       "      <td>1.611782e+09</td>\n",
       "    </tr>\n",
       "    <tr>\n",
       "      <th>75%</th>\n",
       "      <td>48.804425</td>\n",
       "      <td>96.384050</td>\n",
       "      <td>77.000000</td>\n",
       "      <td>88.000000</td>\n",
       "      <td>91.000000</td>\n",
       "      <td>10.987500</td>\n",
       "      <td>1.611782e+09</td>\n",
       "    </tr>\n",
       "    <tr>\n",
       "      <th>max</th>\n",
       "      <td>78.218600</td>\n",
       "      <td>179.316700</td>\n",
       "      <td>97.360000</td>\n",
       "      <td>100.000000</td>\n",
       "      <td>100.000000</td>\n",
       "      <td>34.520000</td>\n",
       "      <td>1.611782e+09</td>\n",
       "    </tr>\n",
       "  </tbody>\n",
       "</table>\n",
       "</div>"
      ],
      "text/plain": [
       "              Lat         Lng    Max Temp    Humidity  Cloudiness  Wind Speed  \\\n",
       "count  532.000000  532.000000  532.000000  532.000000  532.000000  532.000000   \n",
       "mean    19.462834   17.433942   50.045075   74.110902   55.197368    8.420658   \n",
       "std     33.406072   88.698747   32.872823   19.285469   39.642049    5.956980   \n",
       "min    -54.800000 -175.200000  -47.810000   11.000000    0.000000    0.130000   \n",
       "25%     -8.367075  -60.658325   30.000000   65.000000   11.750000    3.595000   \n",
       "50%     22.523200   18.341750   60.800000   79.000000   74.500000    7.445000   \n",
       "75%     48.804425   96.384050   77.000000   88.000000   91.000000   10.987500   \n",
       "max     78.218600  179.316700   97.360000  100.000000  100.000000   34.520000   \n",
       "\n",
       "               Date  \n",
       "count  5.320000e+02  \n",
       "mean   1.611782e+09  \n",
       "std    6.113930e+01  \n",
       "min    1.611782e+09  \n",
       "25%    1.611782e+09  \n",
       "50%    1.611782e+09  \n",
       "75%    1.611782e+09  \n",
       "max    1.611782e+09  "
      ]
     },
     "execution_count": 42,
     "metadata": {},
     "output_type": "execute_result"
    }
   ],
   "source": [
    "weather_df.describe()"
   ]
  },
  {
   "cell_type": "markdown",
   "metadata": {},
   "source": [
    "This section not applicable - no cities have humidity > 100%"
   ]
  },
  {
   "cell_type": "markdown",
   "metadata": {},
   "source": [
    "## Plotting the Data\n",
    "* Use proper labeling of the plots using plot titles (including date of analysis) and axes labels.\n",
    "* Save the plotted figures as .pngs."
   ]
  },
  {
   "cell_type": "markdown",
   "metadata": {},
   "source": [
    "## Latitude vs. Temperature Plot"
   ]
  },
  {
   "cell_type": "code",
   "execution_count": 44,
   "metadata": {
    "scrolled": true
   },
   "outputs": [
    {
     "data": {
      "image/png": "[encoded data removed]",
      "text/plain": [
       "<Figure size 432x288 with 1 Axes>"
      ]
     },
     "metadata": {
      "needs_background": "light"
     },
     "output_type": "display_data"
    }
   ],
   "source": [
    "# Create Chart\n",
    "plt.scatter(weather_data[\"Lat\"], weather_data[\"Max Temp\"], marker=\"o\")\n",
    "\n",
    "# Incorporate the other graph properties\n",
    "plt.title(\"City Latitude vs. Max Temperature 01/27/21\")\n",
    "plt.ylabel(\"Max Temperature (F)\")\n",
    "plt.xlabel(\"Latitude\")\n",
    "plt.grid(True)\n",
    "\n",
    "# Save the figure\n",
    "plt.savefig(\"LatitudeVsTemperature.png\")\n",
    "\n",
    "# Show plot\n",
    "plt.show()"
   ]
  },
  {
   "cell_type": "markdown",
   "metadata": {},
   "source": [
    "This plot reflects the maximum current temperature (in Fahrenheit) at different latitudes. The temperatures are higher in the latitudes below 40 degrees north of the equator. At higher latitudes, there are some extremely cold temperatures, given that it is currently winter in the northern hemisphere and latitude of 60N is very far north. The southern hemisphere is currently in summer, so the max temperature is not lower than 40 degrees Fahrenheit. The weather is consistently hottest at the equator."
   ]
  },
  {
   "cell_type": "markdown",
   "metadata": {},
   "source": [
    "## Latitude vs. Humidity Plot"
   ]
  },
  {
   "cell_type": "code",
   "execution_count": 45,
   "metadata": {},
   "outputs": [
    {
     "data": {
      "image/png": "[encoded data removed]",
      "text/plain": [
       "<Figure size 432x288 with 1 Axes>"
      ]
     },
     "metadata": {
      "needs_background": "light"
     },
     "output_type": "display_data"
    }
   ],
   "source": [
    "# Create Chart\n",
    "plt.scatter(weather_data[\"Lat\"], weather_data[\"Humidity\"], marker=\"o\")\n",
    "\n",
    "# Incorporate the other graph properties\n",
    "plt.title(\"City Latitude vs. Humidity 01/27/21\")\n",
    "plt.ylabel(\"Humidity (%)\")\n",
    "plt.xlabel(\"Latitude\")\n",
    "plt.grid(True)\n",
    "\n",
    "# Save the figure\n",
    "plt.savefig(\"LatitudeVsHumidity.png\")\n",
    "\n",
    "# Show plot\n",
    "plt.show()"
   ]
  },
  {
   "cell_type": "markdown",
   "metadata": {},
   "source": [
    "This plot reflects the humidity of the cities in the sample by their latitude. There seems to be a generally high concentration of humidity across latitudes, except for those more than 40 degrees south of the equator."
   ]
  },
  {
   "cell_type": "markdown",
   "metadata": {},
   "source": [
    "## Latitude vs. Cloudiness Plot"
   ]
  },
  {
   "cell_type": "code",
   "execution_count": 46,
   "metadata": {},
   "outputs": [
    {
     "data": {
      "image/png": "[encoded data removed]",
      "text/plain": [
       "<Figure size 432x288 with 1 Axes>"
      ]
     },
     "metadata": {
      "needs_background": "light"
     },
     "output_type": "display_data"
    }
   ],
   "source": [
    "# Create Chart\n",
    "plt.scatter(weather_data[\"Lat\"], weather_data[\"Cloudiness\"], marker=\"o\")\n",
    "\n",
    "# Incorporate the other graph properties\n",
    "plt.title(\"City Latitude vs. Cloudiness 01/27/21\")\n",
    "plt.ylabel(\"Cloudiness (%)\")\n",
    "plt.xlabel(\"Latitude\")\n",
    "plt.grid(True)\n",
    "\n",
    "# Save the figure\n",
    "plt.savefig(\"LatitudeVsCloudiness.png\")\n",
    "\n",
    "# Show plot\n",
    "plt.show()"
   ]
  },
  {
   "cell_type": "markdown",
   "metadata": {},
   "source": [
    "This plot reflects the cloudiness compared with the latitude of the city. There do not appear to be any cities on the equator that were not cloudy on 1/27/21."
   ]
  },
  {
   "cell_type": "markdown",
   "metadata": {},
   "source": [
    "## Latitude vs. Wind Speed Plot"
   ]
  },
  {
   "cell_type": "code",
   "execution_count": 47,
   "metadata": {},
   "outputs": [
    {
     "data": {
      "image/png": "[encoded data removed]",
      "text/plain": [
       "<Figure size 432x288 with 1 Axes>"
      ]
     },
     "metadata": {
      "needs_background": "light"
     },
     "output_type": "display_data"
    }
   ],
   "source": [
    "# Create Chart\n",
    "plt.scatter(weather_data[\"Lat\"], weather_data[\"Wind Speed\"], marker=\"o\")\n",
    "\n",
    "# Incorporate the other graph properties\n",
    "plt.title(\"City Latitude vs. Wind Speed 01/27/21\")\n",
    "plt.ylabel(\"Wind Speed mph\")\n",
    "plt.xlabel(\"Latitude\")\n",
    "plt.grid(True)\n",
    "\n",
    "# Save the figure\n",
    "plt.savefig(\"LatitudeVsWindSpeed.png\")\n",
    "\n",
    "# Show plot\n",
    "plt.show()"
   ]
  },
  {
   "cell_type": "markdown",
   "metadata": {},
   "source": [
    "This plot reflects latitude compared with wind speed.  The wind speeds generally fall in similar ranges, though higher wind speeds are more prevalent in the northern hemisphere as of 1/27/21. The highest wind speeds observed are near the Arctic Circle."
   ]
  },
  {
   "cell_type": "markdown",
   "metadata": {},
   "source": [
    "## Linear Regression"
   ]
  },
  {
   "cell_type": "code",
   "execution_count": 50,
   "metadata": {},
   "outputs": [
    {
     "data": {
      "text/html": [
       "<div>\n",
       "<style scoped>\n",
       "    .dataframe tbody tr th:only-of-type {\n",
       "        vertical-align: middle;\n",
       "    }\n",
       "\n",
       "    .dataframe tbody tr th {\n",
       "        vertical-align: top;\n",
       "    }\n",
       "\n",
       "    .dataframe thead th {\n",
       "        text-align: right;\n",
       "    }\n",
       "</style>\n",
       "<table border=\"1\" class=\"dataframe\">\n",
       "  <thead>\n",
       "    <tr style=\"text-align: right;\">\n",
       "      <th></th>\n",
       "      <th>Lat</th>\n",
       "      <th>Lng</th>\n",
       "      <th>Max Temp</th>\n",
       "      <th>Humidity</th>\n",
       "      <th>Cloudiness</th>\n",
       "      <th>Wind Speed</th>\n",
       "      <th>Date</th>\n",
       "    </tr>\n",
       "  </thead>\n",
       "  <tbody>\n",
       "    <tr>\n",
       "      <th>count</th>\n",
       "      <td>176.000000</td>\n",
       "      <td>176.000000</td>\n",
       "      <td>176.000000</td>\n",
       "      <td>176.000000</td>\n",
       "      <td>176.000000</td>\n",
       "      <td>176.000000</td>\n",
       "      <td>1.760000e+02</td>\n",
       "    </tr>\n",
       "    <tr>\n",
       "      <th>mean</th>\n",
       "      <td>-20.140430</td>\n",
       "      <td>21.584507</td>\n",
       "      <td>74.214489</td>\n",
       "      <td>74.244318</td>\n",
       "      <td>57.500000</td>\n",
       "      <td>8.411193</td>\n",
       "      <td>1.611782e+09</td>\n",
       "    </tr>\n",
       "    <tr>\n",
       "      <th>std</th>\n",
       "      <td>13.322811</td>\n",
       "      <td>92.443703</td>\n",
       "      <td>9.825744</td>\n",
       "      <td>17.931695</td>\n",
       "      <td>38.271063</td>\n",
       "      <td>5.598993</td>\n",
       "      <td>6.954448e+01</td>\n",
       "    </tr>\n",
       "    <tr>\n",
       "      <th>min</th>\n",
       "      <td>-54.800000</td>\n",
       "      <td>-175.200000</td>\n",
       "      <td>41.000000</td>\n",
       "      <td>11.000000</td>\n",
       "      <td>0.000000</td>\n",
       "      <td>0.400000</td>\n",
       "      <td>1.611782e+09</td>\n",
       "    </tr>\n",
       "    <tr>\n",
       "      <th>25%</th>\n",
       "      <td>-31.459350</td>\n",
       "      <td>-55.054075</td>\n",
       "      <td>68.847500</td>\n",
       "      <td>68.000000</td>\n",
       "      <td>20.000000</td>\n",
       "      <td>4.022500</td>\n",
       "      <td>1.611782e+09</td>\n",
       "    </tr>\n",
       "    <tr>\n",
       "      <th>50%</th>\n",
       "      <td>-20.214850</td>\n",
       "      <td>18.983900</td>\n",
       "      <td>76.515000</td>\n",
       "      <td>78.000000</td>\n",
       "      <td>72.000000</td>\n",
       "      <td>7.985000</td>\n",
       "      <td>1.611782e+09</td>\n",
       "    </tr>\n",
       "    <tr>\n",
       "      <th>75%</th>\n",
       "      <td>-8.464800</td>\n",
       "      <td>114.783325</td>\n",
       "      <td>80.600000</td>\n",
       "      <td>87.000000</td>\n",
       "      <td>96.250000</td>\n",
       "      <td>10.550000</td>\n",
       "      <td>1.611782e+09</td>\n",
       "    </tr>\n",
       "    <tr>\n",
       "      <th>max</th>\n",
       "      <td>-0.358200</td>\n",
       "      <td>175.700000</td>\n",
       "      <td>97.360000</td>\n",
       "      <td>100.000000</td>\n",
       "      <td>100.000000</td>\n",
       "      <td>28.520000</td>\n",
       "      <td>1.611782e+09</td>\n",
       "    </tr>\n",
       "  </tbody>\n",
       "</table>\n",
       "</div>"
      ],
      "text/plain": [
       "              Lat         Lng    Max Temp    Humidity  Cloudiness  Wind Speed  \\\n",
       "count  176.000000  176.000000  176.000000  176.000000  176.000000  176.000000   \n",
       "mean   -20.140430   21.584507   74.214489   74.244318   57.500000    8.411193   \n",
       "std     13.322811   92.443703    9.825744   17.931695   38.271063    5.598993   \n",
       "min    -54.800000 -175.200000   41.000000   11.000000    0.000000    0.400000   \n",
       "25%    -31.459350  -55.054075   68.847500   68.000000   20.000000    4.022500   \n",
       "50%    -20.214850   18.983900   76.515000   78.000000   72.000000    7.985000   \n",
       "75%     -8.464800  114.783325   80.600000   87.000000   96.250000   10.550000   \n",
       "max     -0.358200  175.700000   97.360000  100.000000  100.000000   28.520000   \n",
       "\n",
       "               Date  \n",
       "count  1.760000e+02  \n",
       "mean   1.611782e+09  \n",
       "std    6.954448e+01  \n",
       "min    1.611782e+09  \n",
       "25%    1.611782e+09  \n",
       "50%    1.611782e+09  \n",
       "75%    1.611782e+09  \n",
       "max    1.611782e+09  "
      ]
     },
     "execution_count": 50,
     "metadata": {},
     "output_type": "execute_result"
    }
   ],
   "source": [
    "#Split dataframe\n",
    "northern_weather_df=weather_df.loc[weather_df['Lat']>=0]\n",
    "southern_weather_df=weather_df.loc[weather_df['Lat']<0]\n"
   ]
  },
  {
   "cell_type": "markdown",
   "metadata": {},
   "source": [
    "####  Northern Hemisphere - Max Temp vs. Latitude Linear Regression"
   ]
  },
  {
   "cell_type": "code",
   "execution_count": 63,
   "metadata": {},
   "outputs": [
    {
     "name": "stdout",
     "output_type": "stream",
     "text": [
      "The r-value is: -0.8457680191923913.\n"
     ]
    },
    {
     "data": {
      "image/png": "[encoded data removed]",
      "text/plain": [
       "<Figure size 432x288 with 1 Axes>"
      ]
     },
     "metadata": {
      "needs_background": "light"
     },
     "output_type": "display_data"
    }
   ],
   "source": [
    "#Regression model\n",
    "(slope, intercept, rvalue, pvalue, stderr) = linregress(northern_weather_df['Lat'], northern_weather_df['Max Temp'])\n",
    "regress_values = northern_weather_df['Lat'] * slope + intercept\n",
    "line_eq = \"y = \" + str(round(slope,2)) + \"x + \" + str(round(intercept,2))\n",
    "\n",
    "#Graph datapoints with regression line\n",
    "\n",
    "plt.scatter(northern_weather_df['Lat'], northern_weather_df['Max Temp'], marker=\"o\", facecolors=\"royalblue\", edgecolors=\"black\", alpha=0.75)\n",
    "plt.plot(northern_weather_df['Lat'],regress_values,\"red\")\n",
    "plt.annotate(line_eq,(5,-20),fontsize=15,color=\"red\")\n",
    "plt.title(\"Northern Hemisphere - Max Temp vs. Latitude\")\n",
    "plt.xlabel('Latitude')\n",
    "plt.ylabel('Max Temp (F)')\n",
    "r_value = st.pearsonr(northern_weather_df['Lat'],northern_weather_df['Max Temp'])\n",
    "\n",
    "plt.savefig(\"LatitudeVsTempNorth.png\")\n",
    "print(f'The r-value is: {r_value[0]}.')"
   ]
  },
  {
   "cell_type": "markdown",
   "metadata": {},
   "source": [
    "The regression indicates that there is a strong negative relationship between the latitude and the temperature in the Northern Hemisphere.  As the latitude increases, the temperature is colder.  This makes sense as this would imply that the temperature is colder the further the city is from the equator (and the closer the city is to the North Pole)."
   ]
  },
  {
   "cell_type": "markdown",
   "metadata": {},
   "source": [
    "####  Southern Hemisphere - Max Temp vs. Latitude Linear Regression"
   ]
  },
  {
   "cell_type": "code",
   "execution_count": 70,
   "metadata": {},
   "outputs": [
    {
     "name": "stdout",
     "output_type": "stream",
     "text": [
      "The r-value is: 0.5118663600496295.\n"
     ]
    },
    {
     "data": {
      "image/png": "[encoded data removed]",
      "text/plain": [
       "<Figure size 432x288 with 1 Axes>"
      ]
     },
     "metadata": {
      "needs_background": "light"
     },
     "output_type": "display_data"
    }
   ],
   "source": [
    "#Regression model\n",
    "(slope, intercept, rvalue, pvalue, stderr) = linregress(southern_weather_df['Lat'], southern_weather_df['Max Temp'])\n",
    "regress_values= southern_weather_df['Lat'] * slope + intercept\n",
    "line_eq = \"y = \" + str(round(slope,2)) + \"x + \" + str(round(intercept,2))\n",
    "\n",
    "#Graph datapoints with regression line\n",
    "\n",
    "plt.scatter(southern_weather_df['Lat'], southern_weather_df['Max Temp'], marker=\"o\", facecolors=\"royalblue\", edgecolors=\"black\", alpha=0.75)\n",
    "plt.plot(southern_weather_df['Lat'],regress_values,\"red\")\n",
    "plt.annotate(line_eq,(-25,50),fontsize=15,color=\"red\")\n",
    "plt.title(\"Southern Hemisphere - Max Temp vs. Latitude\")\n",
    "plt.xlabel('Latitude')\n",
    "plt.ylabel('Max Temp (F)')\n",
    "r_value = st.pearsonr(southern_weather_df['Lat'],southern_weather_df['Max Temp'])\n",
    "plt.savefig(\"LatitudeVsTempSouth.png\")\n",
    "print(f'The r-value is: {r_value[0]}.')"
   ]
  },
  {
   "cell_type": "markdown",
   "metadata": {},
   "source": [
    "This regression suggests a moderate positive relationship between the latitude and the temperature.  This makes sense as the latitude increases from the South Pole to the Equator, and the temperature generally increases from the South Pole to the Equator."
   ]
  },
  {
   "cell_type": "markdown",
   "metadata": {},
   "source": [
    "####  Northern Hemisphere - Humidity (%) vs. Latitude Linear Regression"
   ]
  },
  {
   "cell_type": "code",
   "execution_count": 76,
   "metadata": {},
   "outputs": [
    {
     "name": "stdout",
     "output_type": "stream",
     "text": [
      "The r-value is: 0.30492507762570753.\n"
     ]
    },
    {
     "data": {
      "image/png": "[encoded data removed]",
      "text/plain": [
       "<Figure size 432x288 with 1 Axes>"
      ]
     },
     "metadata": {
      "needs_background": "light"
     },
     "output_type": "display_data"
    }
   ],
   "source": [
    "#Regression model\n",
    "(slope, intercept, rvalue, pvalue, stderr) = linregress(northern_weather_df['Lat'], northern_weather_df['Humidity'])\n",
    "regress_values = northern_weather_df['Lat'] * slope + intercept\n",
    "line_eq = \"y = \" + str(round(slope,2)) + \"x + \" + str(round(intercept,2))\n",
    "\n",
    "#Graph datapoints with regression line\n",
    "\n",
    "plt.scatter(northern_weather_df['Lat'], northern_weather_df['Humidity'], marker=\"o\", facecolors=\"royalblue\", edgecolors=\"black\", alpha=0.75)\n",
    "plt.plot(northern_weather_df['Lat'],regress_values,\"red\")\n",
    "plt.annotate(line_eq,(40,20),fontsize=15,color=\"red\")\n",
    "plt.title(\"Northern Hemisphere - Humidity (%) vs. Latitude\")\n",
    "plt.xlabel('Latitude')\n",
    "plt.ylabel('Humidity (%)')\n",
    "r_value = st.pearsonr(northern_weather_df['Lat'],northern_weather_df['Humidity'])\n",
    "\n",
    "plt.savefig(\"LatitudeVsHumidityNorth.png\")\n",
    "print(f'The r-value is: {r_value[0]}.')"
   ]
  },
  {
   "cell_type": "markdown",
   "metadata": {},
   "source": [
    "There appears to be a weak positive relationship between latitude and humidity in the Northern Hemisphere. There appears to currently be a fair amount of humidity, though humidity appears to be generally lower at latitudes below 30 degrees North."
   ]
  },
  {
   "cell_type": "markdown",
   "metadata": {},
   "source": [
    "####  Southern Hemisphere - Humidity (%) vs. Latitude Linear Regression"
   ]
  },
  {
   "cell_type": "code",
   "execution_count": 77,
   "metadata": {},
   "outputs": [
    {
     "name": "stdout",
     "output_type": "stream",
     "text": [
      "The r-value is: 0.29541239433230626.\n"
     ]
    },
    {
     "data": {
      "image/png": "[encoded data removed]",
      "text/plain": [
       "<Figure size 432x288 with 1 Axes>"
      ]
     },
     "metadata": {
      "needs_background": "light"
     },
     "output_type": "display_data"
    }
   ],
   "source": [
    "#Regression model\n",
    "(slope, intercept, rvalue, pvalue, stderr) = linregress(southern_weather_df['Lat'], southern_weather_df['Humidity'])\n",
    "regress_values= southern_weather_df['Lat'] * slope + intercept\n",
    "line_eq = \"y = \" + str(round(slope,2)) + \"x + \" + str(round(intercept,2))\n",
    "\n",
    "#Graph datapoints with regression line\n",
    "\n",
    "plt.scatter(southern_weather_df['Lat'], southern_weather_df['Humidity'], marker=\"o\", facecolors=\"royalblue\", edgecolors=\"black\", alpha=0.75)\n",
    "plt.plot(southern_weather_df['Lat'],regress_values,\"red\")\n",
    "plt.annotate(line_eq,(-25,40),fontsize=15,color=\"red\")\n",
    "plt.title(\"Southern Hemisphere - Humidity (%) vs. Latitude\")\n",
    "plt.xlabel('Latitude')\n",
    "plt.ylabel('Humidity (%)')\n",
    "r_value = st.pearsonr(southern_weather_df['Lat'],southern_weather_df['Humidity'])\n",
    "plt.savefig(\"LatitudeVsHumiditySouth.png\")\n",
    "print(f'The r-value is: {r_value[0]}.')"
   ]
  },
  {
   "cell_type": "markdown",
   "metadata": {},
   "source": [
    "There appears to be a weak positive relationship between latitude and humidity in the Southern Hemisphere. The latitude appears lowest below -20 degrees south."
   ]
  },
  {
   "cell_type": "markdown",
   "metadata": {},
   "source": [
    "####  Northern Hemisphere - Cloudiness (%) vs. Latitude Linear Regression"
   ]
  },
  {
   "cell_type": "code",
   "execution_count": 80,
   "metadata": {},
   "outputs": [
    {
     "name": "stdout",
     "output_type": "stream",
     "text": [
      "The r-value is: 0.2768781658624222.\n"
     ]
    },
    {
     "data": {
      "image/png": "[encoded data removed]",
      "text/plain": [
       "<Figure size 432x288 with 1 Axes>"
      ]
     },
     "metadata": {
      "needs_background": "light"
     },
     "output_type": "display_data"
    }
   ],
   "source": [
    "#Regression model\n",
    "(slope, intercept, rvalue, pvalue, stderr) = linregress(northern_weather_df['Lat'], northern_weather_df['Cloudiness'])\n",
    "regress_values = northern_weather_df['Lat'] * slope + intercept\n",
    "line_eq = \"y = \" + str(round(slope,2)) + \"x + \" + str(round(intercept,2))\n",
    "\n",
    "#Graph datapoints with regression line\n",
    "\n",
    "plt.scatter(northern_weather_df['Lat'], northern_weather_df['Cloudiness'], marker=\"o\", facecolors=\"royalblue\", edgecolors=\"black\", alpha=0.75)\n",
    "plt.plot(northern_weather_df['Lat'],regress_values,\"red\")\n",
    "plt.annotate(line_eq,(10,60),fontsize=15,color=\"red\")\n",
    "plt.title(\"Northern Hemisphere - Cloudiness (%) vs. Latitude\")\n",
    "plt.xlabel('Latitude')\n",
    "plt.ylabel('Cloudiness (%)')\n",
    "r_value = st.pearsonr(northern_weather_df['Lat'],northern_weather_df['Cloudiness'])\n",
    "\n",
    "plt.savefig(\"LatitudeVsCloudinessNorth.png\")\n",
    "print(f'The r-value is: {r_value[0]}.')"
   ]
  },
  {
   "cell_type": "markdown",
   "metadata": {},
   "source": [
    "There appears to be a very weak linear relationship between latitude and cloudiness in the Northern Hemisphere. There are few oservations at around 50% cloudiness across latitudes. Additionally, there are a number of cities with no clouds, and with cloudy skies. At latitudes above 70 degrees, there are few clouds."
   ]
  },
  {
   "cell_type": "markdown",
   "metadata": {},
   "source": [
    "####  Southern Hemisphere - Cloudiness (%) vs. Latitude Linear Regression"
   ]
  },
  {
   "cell_type": "code",
   "execution_count": 87,
   "metadata": {},
   "outputs": [
    {
     "name": "stdout",
     "output_type": "stream",
     "text": [
      "The r-value is: 0.19782510737402037.\n"
     ]
    },
    {
     "data": {
      "image/png": "[encoded data removed]",
      "text/plain": [
       "<Figure size 432x288 with 1 Axes>"
      ]
     },
     "metadata": {
      "needs_background": "light"
     },
     "output_type": "display_data"
    }
   ],
   "source": [
    "#Regression model\n",
    "(slope, intercept, rvalue, pvalue, stderr) = linregress(southern_weather_df['Lat'], southern_weather_df['Cloudiness'])\n",
    "regress_values= southern_weather_df['Lat'] * slope + intercept\n",
    "line_eq = \"y = \" + str(round(slope,2)) + \"x + \" + str(round(intercept,2))\n",
    "\n",
    "#Graph datapoints with regression line\n",
    "\n",
    "plt.scatter(southern_weather_df['Lat'], southern_weather_df['Cloudiness'], marker=\"o\", facecolors=\"royalblue\", edgecolors=\"black\", alpha=0.75)\n",
    "plt.plot(southern_weather_df['Lat'],regress_values,\"red\")\n",
    "plt.annotate(line_eq,(-50,30),fontsize=15,color=\"red\")\n",
    "plt.title(\"Southern Hemisphere - Cloudiness (%) vs. Latitude\")\n",
    "plt.xlabel('Latitude')\n",
    "plt.ylabel('Cloudiness (%)')\n",
    "r_value = st.pearsonr(southern_weather_df['Lat'],southern_weather_df['Cloudiness'])\n",
    "plt.savefig(\"LatitudeVsCloudinessSouth.png\")\n",
    "print(f'The r-value is: {r_value[0]}.')"
   ]
  },
  {
   "cell_type": "markdown",
   "metadata": {},
   "source": [
    "There appears to be a very weak relationship between latitude and cloudiness in the Southern Hemisphere. There are few oservations at around 50% cloudiness across latitudes. At latitudes below -50 degrees, there are few clouds."
   ]
  },
  {
   "cell_type": "markdown",
   "metadata": {},
   "source": [
    "####  Northern Hemisphere - Wind Speed (mph) vs. Latitude Linear Regression"
   ]
  },
  {
   "cell_type": "code",
   "execution_count": 93,
   "metadata": {},
   "outputs": [
    {
     "name": "stdout",
     "output_type": "stream",
     "text": [
      "The r-value is: 0.2768781658624222.\n"
     ]
    },
    {
     "data": {
      "image/png": "[encoded data removed]",
      "text/plain": [
       "<Figure size 432x288 with 1 Axes>"
      ]
     },
     "metadata": {
      "needs_background": "light"
     },
     "output_type": "display_data"
    }
   ],
   "source": [
    "#Regression model\n",
    "(slope, intercept, rvalue, pvalue, stderr) = linregress(northern_weather_df['Lat'], northern_weather_df['Wind Speed'])\n",
    "regress_values = northern_weather_df['Lat'] * slope + intercept\n",
    "line_eq = \"y = \" + str(round(slope,2)) + \"x + \" + str(round(intercept,2))\n",
    "\n",
    "#Graph datapoints with regression line\n",
    "\n",
    "plt.scatter(northern_weather_df['Lat'], northern_weather_df['Wind Speed'], marker=\"o\", facecolors=\"royalblue\", edgecolors=\"black\", alpha=0.75)\n",
    "plt.plot(northern_weather_df['Lat'],regress_values,\"red\")\n",
    "plt.annotate(line_eq,(30,30),fontsize=15,color=\"red\")\n",
    "plt.title(\"Northern Hemisphere - Wind Speed (mph) vs. Latitude\")\n",
    "plt.xlabel('Latitude')\n",
    "plt.ylabel('Wind Speed (mph)')\n",
    "r_value = st.pearsonr(northern_weather_df['Lat'],northern_weather_df['Cloudiness'])\n",
    "\n",
    "plt.savefig(\"LatitudeVsWindSpeedNorth.png\")\n",
    "print(f'The r-value is: {r_value[0]}.')"
   ]
  },
  {
   "cell_type": "markdown",
   "metadata": {},
   "source": [
    "There appears to be a very weak positive linear relationship between wind speed and latitude in the Northern Hemisphere. Wind speeds are generally low as of 1/27/21 in the Northern Hemisphere, with a few outliers closer to the North Pole."
   ]
  },
  {
   "cell_type": "markdown",
   "metadata": {},
   "source": [
    "####  Southern Hemisphere - Wind Speed (mph) vs. Latitude Linear Regression"
   ]
  },
  {
   "cell_type": "code",
   "execution_count": 92,
   "metadata": {},
   "outputs": [
    {
     "name": "stdout",
     "output_type": "stream",
     "text": [
      "The r-value is: -0.26035138852243805.\n"
     ]
    },
    {
     "data": {
      "image/png": "[encoded data removed]",
      "text/plain": [
       "<Figure size 432x288 with 1 Axes>"
      ]
     },
     "metadata": {
      "needs_background": "light"
     },
     "output_type": "display_data"
    }
   ],
   "source": [
    "#Regression model\n",
    "(slope, intercept, rvalue, pvalue, stderr) = linregress(southern_weather_df['Lat'], southern_weather_df['Wind Speed'])\n",
    "regress_values= southern_weather_df['Lat'] * slope + intercept\n",
    "line_eq = \"y = \" + str(round(slope,2)) + \"x + \" + str(round(intercept,2))\n",
    "\n",
    "#Graph datapoints with regression line\n",
    "\n",
    "plt.scatter(southern_weather_df['Lat'], southern_weather_df['Wind Speed'], marker=\"o\", facecolors=\"royalblue\", edgecolors=\"black\", alpha=0.75)\n",
    "plt.plot(southern_weather_df['Lat'],regress_values,\"red\")\n",
    "plt.annotate(line_eq,(-25,25),fontsize=15,color=\"red\")\n",
    "plt.title(\"Southern Hemisphere - Wind Speed (mph) vs. Latitude\")\n",
    "plt.xlabel('Latitude')\n",
    "plt.ylabel('Wind Speed (mph)')\n",
    "r_value = st.pearsonr(southern_weather_df['Lat'],southern_weather_df['Wind Speed'])\n",
    "plt.savefig(\"LatitudeVsWindspeedSouth.png\")\n",
    "print(f'The r-value is: {r_value[0]}.')"
   ]
  },
  {
   "cell_type": "markdown",
   "metadata": {},
   "source": [
    "There appears to be a very weak negative linear relationship between wind speed and latitue in the Southern Hemisphere. Wind speeds are generally low.  The highest wind speeds were observed at around 27 degrees south, and closer to the South Pole."
   ]
  }
 ],
 "metadata": {
  "anaconda-cloud": {},
  "kernel_info": {
   "name": "python3"
  },
  "kernelspec": {
   "display_name": "Python 3",
   "language": "python",
   "name": "python3"
  },
  "language_info": {
   "codemirror_mode": {
    "name": "ipython",
    "version": 3
   },
   "file_extension": ".py",
   "mimetype": "text/x-python",
   "name": "python",
   "nbconvert_exporter": "python",
   "pygments_lexer": "ipython3",
   "version": "3.8.5"
  },
  "latex_envs": {
   "LaTeX_envs_menu_present": true,
   "autoclose": false,
   "autocomplete": true,
   "bibliofile": "biblio.bib",
   "cite_by": "apalike",
   "current_citInitial": 1,
   "eqLabelWithNumbers": true,
   "eqNumInitial": 1,
   "hotkeys": {
    "equation": "Ctrl-E",
    "itemize": "Ctrl-I"
   },
   "labels_anchors": false,
   "latex_user_defs": false,
   "report_style_numbering": false,
   "user_envs_cfg": false
  },
  "nteract": {
   "version": "0.12.3"
  }
 },
 "nbformat": 4,
 "nbformat_minor": 2
}
